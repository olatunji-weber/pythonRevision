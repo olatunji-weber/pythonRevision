{
 "cells": [
  {
   "cell_type": "code",
   "execution_count": 2,
   "id": "9a55805f",
   "metadata": {},
   "outputs": [
    {
     "name": "stdout",
     "output_type": "stream",
     "text": [
      "What is your name? Olayinka\n",
      "Hello Olayinka\n"
     ]
    }
   ],
   "source": [
    "name = input(\"What is your name? \")\n",
    "print(\"Hello \" + name)"
   ]
  },
  {
   "cell_type": "code",
   "execution_count": 3,
   "id": "35614060",
   "metadata": {},
   "outputs": [
    {
     "data": {
      "text/plain": [
       "str"
      ]
     },
     "execution_count": 3,
     "metadata": {},
     "output_type": "execute_result"
    }
   ],
   "source": [
    "type(\"Love\")"
   ]
  },
  {
   "cell_type": "code",
   "execution_count": 4,
   "id": "72ab81cf",
   "metadata": {},
   "outputs": [
    {
     "name": "stdout",
     "output_type": "stream",
     "text": [
      "Enter your choice: a\n",
      "Input the First number: 200\n",
      "Input the Second number: 500\n",
      "The Sum of the numbers is: 700\n"
     ]
    }
   ],
   "source": [
    "userInput = input(\"Enter your choice: \").lower()\n",
    "if(userInput == 'a'):\n",
    "    fNum = int(input(\"Input the First number: \"))\n",
    "    sNum = int(input(\"Input the Second number: \"))\n",
    "    result = fNum + sNum\n",
    "    print(\"The Sum of the numbers is: \" + str(result))\n",
    "elif(userInput == 's'):\n",
    "    fNum = int(input(\"Input the First number: \"))\n",
    "    sNum = int(input(\"Input the Second number: \"))\n",
    "    result = fNum - sNum\n",
    "    print(\"The Difference of the numbers is: \" + str(result))\n",
    "elif(userInput == 'm'):\n",
    "    fNum = int(input(\"Input the First number: \"))\n",
    "    sNum = int(input(\"Input the Second number: \"))\n",
    "    result = fNum * sNum\n",
    "    print(\"The Product of the numbers is: \" + str(result))\n",
    "elif(userInput == 'q'):\n",
    "    fNum = int(input(\"Input the First number: \"))\n",
    "    sNum = int(input(\"Input the Second number: \"))\n",
    "    result = fNum / sNum\n",
    "    print(\"The Quotient of the numbers is: \" + str(result))"
   ]
  },
  {
   "cell_type": "code",
   "execution_count": 5,
   "id": "acf80502",
   "metadata": {},
   "outputs": [
    {
     "name": "stdout",
     "output_type": "stream",
     "text": [
      "What is your name: Olayinka\n",
      "Which country are you from: Nigeria\n",
      "Hello, Olayinka. You country Nigeria, is very awesome....\n"
     ]
    }
   ],
   "source": [
    "name = input(\"What is your name: \")\n",
    "country = input(\"Which country are you from: \")\n",
    "print(f\"Hello, {name}. You country {country}, is very awesome....\")"
   ]
  },
  {
   "cell_type": "code",
   "execution_count": 6,
   "id": "64f5c1c4",
   "metadata": {},
   "outputs": [
    {
     "data": {
      "text/plain": [
       "'C:\\\\Users\\\\train'"
      ]
     },
     "execution_count": 6,
     "metadata": {},
     "output_type": "execute_result"
    }
   ],
   "source": [
    "%pwd"
   ]
  },
  {
   "cell_type": "code",
   "execution_count": null,
   "id": "35965056",
   "metadata": {},
   "outputs": [],
   "source": []
  }
 ],
 "metadata": {
  "kernelspec": {
   "display_name": "Python 3 (ipykernel)",
   "language": "python",
   "name": "python3"
  },
  "language_info": {
   "codemirror_mode": {
    "name": "ipython",
    "version": 3
   },
   "file_extension": ".py",
   "mimetype": "text/x-python",
   "name": "python",
   "nbconvert_exporter": "python",
   "pygments_lexer": "ipython3",
   "version": "3.9.12"
  }
 },
 "nbformat": 4,
 "nbformat_minor": 5
}
